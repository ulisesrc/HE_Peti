{
 "cells": [
  {
   "cell_type": "code",
   "execution_count": 1,
   "metadata": {},
   "outputs": [
    {
     "name": "stdout",
     "output_type": "stream",
     "text": [
      "Escaneando puertos en innovaschools.edu.mx...\n",
      "Puerto 21 está abierto\n",
      "Puerto 80 está abierto\n"
     ]
    }
   ],
   "source": [
    "import socket\n",
    "\n",
    "def scan_port(host, port):\n",
    "    # Creamos un socket TCP\n",
    "    s = socket.socket(socket.AF_INET, socket.SOCK_STREAM)\n",
    "    s.settimeout(1)  # Establecemos un tiempo de espera para la conexión\n",
    "\n",
    "    try:\n",
    "        # Intentamos conectar al puerto en el host\n",
    "        s.connect((host, port))\n",
    "        s.close()\n",
    "        return True  # El puerto está abierto\n",
    "    except (socket.timeout, ConnectionRefusedError):\n",
    "        return False  # El puerto está cerrado o no responde\n",
    "\n",
    "def scan_ports(host, start_port, end_port):\n",
    "    print(f\"Escaneando puertos en {host}...\")\n",
    "    for port in range(start_port, end_port + 1):\n",
    "        if scan_port(host, port):\n",
    "            print(f\"Puerto {port} está abierto\")\n",
    "\n",
    "# Define el host a escanear y el rango de puertos\n",
    "host_to_scan = 'innovaschools.edu.mx'\n",
    "start_port = 20\n",
    "end_port = 80\n",
    "\n",
    "# Realiza el escaneo de puertos\n",
    "scan_ports(host_to_scan, start_port, end_port)\n"
   ]
  }
 ],
 "metadata": {
  "kernelspec": {
   "display_name": "base",
   "language": "python",
   "name": "python3"
  },
  "language_info": {
   "codemirror_mode": {
    "name": "ipython",
    "version": 3
   },
   "file_extension": ".py",
   "mimetype": "text/x-python",
   "name": "python",
   "nbconvert_exporter": "python",
   "pygments_lexer": "ipython3",
   "version": "3.11.7"
  }
 },
 "nbformat": 4,
 "nbformat_minor": 2
}
