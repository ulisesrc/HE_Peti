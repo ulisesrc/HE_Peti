{
 "cells": [
  {
   "cell_type": "code",
   "execution_count": 4,
   "metadata": {},
   "outputs": [],
   "source": [
    "#pip install pyfiglet"
   ]
  },
  {
   "cell_type": "code",
   "execution_count": 1,
   "metadata": {},
   "outputs": [],
   "source": [
    "import pyfiglet\n",
    "import sys\n",
    "import socket\n",
    "from datetime import datetime"
   ]
  },
  {
   "cell_type": "code",
   "execution_count": 2,
   "metadata": {},
   "outputs": [
    {
     "name": "stdout",
     "output_type": "stream",
     "text": [
      " ____            _     ____                                  \n",
      "|  _ \\ ___  _ __| |_  / ___|  ___ __ _ _ __  _ __   ___ _ __ \n",
      "| |_) / _ \\| '__| __| \\___ \\ / __/ _` | '_ \\| '_ \\ / _ \\ '__|\n",
      "|  __/ (_) | |  | |_   ___) | (_| (_| | | | | | | |  __/ |   \n",
      "|_|   \\___/|_|   \\__| |____/ \\___\\__,_|_| |_|_| |_|\\___|_|   \n",
      "                                                             \n",
      " ____  _____ _____ ___    ____  ___  _     ____  \n",
      "|  _ \\| ____|_   _|_ _|  / ___|/ _ \\| |   |  _ \\ \n",
      "| |_) |  _|   | |  | |  | |  _| | | | |   | | | |\n",
      "|  __/| |___  | |  | |  | |_| | |_| | |___| |_| |\n",
      "|_|   |_____| |_| |___|  \\____|\\___/|_____|____/ \n",
      "                                                 \n",
      "\n"
     ]
    }
   ],
   "source": [
    "ascii_banner = pyfiglet.figlet_format(\"Port Scanner PETI GOLD\")\n",
    "print(ascii_banner)"
   ]
  },
  {
   "cell_type": "markdown",
   "metadata": {},
   "source": [
    "Estableciendo el Objetivo"
   ]
  },
  {
   "cell_type": "code",
   "execution_count": 3,
   "metadata": {},
   "outputs": [
    {
     "ename": "UnicodeError",
     "evalue": "encoding with 'idna' codec failed (UnicodeError: label empty or too long)",
     "output_type": "error",
     "traceback": [
      "\u001b[1;31m---------------------------------------------------------------------------\u001b[0m",
      "\u001b[1;31mUnicodeError\u001b[0m                              Traceback (most recent call last)",
      "File \u001b[1;32mc:\\ProgramData\\anaconda311\\Lib\\encodings\\idna.py:163\u001b[0m, in \u001b[0;36mCodec.encode\u001b[1;34m(self, input, errors)\u001b[0m\n\u001b[0;32m    162\u001b[0m     \u001b[38;5;28;01mif\u001b[39;00m \u001b[38;5;129;01mnot\u001b[39;00m (\u001b[38;5;241m0\u001b[39m \u001b[38;5;241m<\u001b[39m \u001b[38;5;28mlen\u001b[39m(label) \u001b[38;5;241m<\u001b[39m \u001b[38;5;241m64\u001b[39m):\n\u001b[1;32m--> 163\u001b[0m         \u001b[38;5;28;01mraise\u001b[39;00m \u001b[38;5;167;01mUnicodeError\u001b[39;00m(\u001b[38;5;124m\"\u001b[39m\u001b[38;5;124mlabel empty or too long\u001b[39m\u001b[38;5;124m\"\u001b[39m)\n\u001b[0;32m    164\u001b[0m \u001b[38;5;28;01mif\u001b[39;00m \u001b[38;5;28mlen\u001b[39m(labels[\u001b[38;5;241m-\u001b[39m\u001b[38;5;241m1\u001b[39m]) \u001b[38;5;241m>\u001b[39m\u001b[38;5;241m=\u001b[39m \u001b[38;5;241m64\u001b[39m:\n",
      "\u001b[1;31mUnicodeError\u001b[0m: label empty or too long",
      "\nThe above exception was the direct cause of the following exception:\n",
      "\u001b[1;31mUnicodeError\u001b[0m                              Traceback (most recent call last)",
      "Cell \u001b[1;32mIn[3], line 2\u001b[0m\n\u001b[0;32m      1\u001b[0m \u001b[38;5;28;01mif\u001b[39;00m \u001b[38;5;28mlen\u001b[39m(sys\u001b[38;5;241m.\u001b[39margv) \u001b[38;5;241m==\u001b[39m \u001b[38;5;241m2\u001b[39m:  \n\u001b[1;32m----> 2\u001b[0m     target \u001b[38;5;241m=\u001b[39m socket\u001b[38;5;241m.\u001b[39mgethostbyname(sys\u001b[38;5;241m.\u001b[39margv[\u001b[38;5;241m1\u001b[39m])\n\u001b[0;32m      3\u001b[0m \u001b[38;5;28;01melse\u001b[39;00m:\n\u001b[0;32m      4\u001b[0m     \u001b[38;5;28mprint\u001b[39m(\u001b[38;5;124m\"\u001b[39m\u001b[38;5;124mArgumentos invalidos\u001b[39m\u001b[38;5;124m\"\u001b[39m)\n",
      "\u001b[1;31mUnicodeError\u001b[0m: encoding with 'idna' codec failed (UnicodeError: label empty or too long)"
     ]
    }
   ],
   "source": [
    "if len(sys.argv) == 2:  \n",
    "    target = socket.gethostbyname(sys.argv[1])\n",
    "else:\n",
    "    print(\"Argumentos invalidos\")\n",
    "    \n",
    "print(\"-\"*50)\n",
    "print(\"Scanning Target: \" + target)\n",
    "print(\"Scanning started at:\" + str(datetime.now()))\n",
    "print(\"-\"*50)\n",
    "\n",
    "try:\n",
    "    for port in range(1,65535):\n",
    "        s = socket.socket(socket.AF_INET, socket.SOCK_STREAM)\n",
    "        socket.setdefaulttimeout(1)\n",
    "        \n",
    "        result = s.connect_ex((target,port))\n",
    "        if result ==0:\n",
    "            print (\"Port {} is open.format(port)\")\n",
    "        s.close()\n",
    "        \n",
    "except KeyboardInterrupt:\n",
    "    print(\"\\n Host abierto\")\n",
    "    sys.exit()\n",
    "except socket.gaierror:\n",
    "    print(\"\\n Host No se peude resolver\")\n",
    "    sys.exit()\n",
    "except socket.error:\n",
    "    print(\"\\ No responde el servidor\")\n",
    "    sys.exit()\n",
    "            "
   ]
  }
 ],
 "metadata": {
  "kernelspec": {
   "display_name": "base",
   "language": "python",
   "name": "python3"
  },
  "language_info": {
   "codemirror_mode": {
    "name": "ipython",
    "version": 3
   },
   "file_extension": ".py",
   "mimetype": "text/x-python",
   "name": "python",
   "nbconvert_exporter": "python",
   "pygments_lexer": "ipython3",
   "version": "3.11.7"
  }
 },
 "nbformat": 4,
 "nbformat_minor": 2
}
