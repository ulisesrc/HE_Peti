{
 "cells": [
  {
   "cell_type": "code",
   "execution_count": 1,
   "metadata": {},
   "outputs": [
    {
     "name": "stdout",
     "output_type": "stream",
     "text": [
      "\u001b[31mPuerto cerrado: 1\n",
      "\u001b[31mPuerto cerrado: 2\n",
      "\u001b[31mPuerto cerrado: 3\n",
      "\u001b[31mPuerto cerrado: 4\n",
      "\u001b[31mPuerto cerrado: 5\n",
      "\u001b[31mPuerto cerrado: 6\n",
      "\u001b[31mPuerto cerrado: 7\n",
      "\u001b[31mPuerto cerrado: 8\n",
      "\u001b[31mPuerto cerrado: 9\n",
      "\u001b[31mPuerto cerrado: 10\n",
      "\u001b[31mPuerto cerrado: 11\n",
      "\u001b[31mPuerto cerrado: 12\n",
      "\u001b[31mPuerto cerrado: 13\n",
      "\u001b[31mPuerto cerrado: 14\n",
      "\u001b[31mPuerto cerrado: 15\n",
      "\u001b[31mPuerto cerrado: 16\n",
      "\u001b[31mPuerto cerrado: 17\n",
      "\u001b[31mPuerto cerrado: 18\n",
      "\u001b[31mPuerto cerrado: 19\n",
      "\u001b[31mPuerto cerrado: 20\n",
      "\u001b[32mPuerto abierto: 21\n",
      "\u001b[31mPuerto cerrado: 22\n",
      "\u001b[31mPuerto cerrado: 23\n",
      "\u001b[31mPuerto cerrado: 24\n",
      "\u001b[31mPuerto cerrado: 25\n",
      "\u001b[31mPuerto cerrado: 26\n",
      "\u001b[31mPuerto cerrado: 27\n",
      "\u001b[31mPuerto cerrado: 28\n",
      "\u001b[31mPuerto cerrado: 29\n",
      "\u001b[31mPuerto cerrado: 30\n",
      "\u001b[31mPuerto cerrado: 31\n",
      "\u001b[31mPuerto cerrado: 32\n",
      "\u001b[31mPuerto cerrado: 33\n",
      "\u001b[31mPuerto cerrado: 34\n",
      "\u001b[31mPuerto cerrado: 35\n",
      "\u001b[31mPuerto cerrado: 36\n",
      "\u001b[31mPuerto cerrado: 37\n",
      "\u001b[31mPuerto cerrado: 38\n",
      "\u001b[31mPuerto cerrado: 39\n",
      "\u001b[31mPuerto cerrado: 40\n",
      "\u001b[31mPuerto cerrado: 41\n",
      "\u001b[31mPuerto cerrado: 42\n",
      "\u001b[31mPuerto cerrado: 43\n",
      "\u001b[31mPuerto cerrado: 44\n",
      "\u001b[31mPuerto cerrado: 45\n",
      "\u001b[31mPuerto cerrado: 46\n",
      "\u001b[31mPuerto cerrado: 47\n",
      "\u001b[31mPuerto cerrado: 48\n",
      "\u001b[31mPuerto cerrado: 49\n",
      "\u001b[31mPuerto cerrado: 50\n",
      "\u001b[31mPuerto cerrado: 51\n",
      "\u001b[31mPuerto cerrado: 52\n",
      "\u001b[31mPuerto cerrado: 53\n",
      "\u001b[31mPuerto cerrado: 54\n",
      "\u001b[31mPuerto cerrado: 55\n",
      "\u001b[31mPuerto cerrado: 56\n",
      "\u001b[31mPuerto cerrado: 57\n",
      "\u001b[31mPuerto cerrado: 58\n",
      "\u001b[31mPuerto cerrado: 59\n",
      "\u001b[31mPuerto cerrado: 60\n",
      "\u001b[31mPuerto cerrado: 61\n",
      "\u001b[31mPuerto cerrado: 62\n",
      "\u001b[31mPuerto cerrado: 63\n"
     ]
    },
    {
     "ename": "KeyboardInterrupt",
     "evalue": "",
     "output_type": "error",
     "traceback": [
      "\u001b[1;31m---------------------------------------------------------------------------\u001b[0m",
      "\u001b[1;31mKeyboardInterrupt\u001b[0m                         Traceback (most recent call last)",
      "Cell \u001b[1;32mIn[1], line 15\u001b[0m\n\u001b[0;32m     13\u001b[0m sock\u001b[38;5;241m.\u001b[39msettimeout(\u001b[38;5;241m3\u001b[39m);\n\u001b[0;32m     14\u001b[0m     \u001b[38;5;66;03m#En una variable vamos a guardar el valor del puerto al cual logramos conectarnos.\u001b[39;00m\n\u001b[1;32m---> 15\u001b[0m result \u001b[38;5;241m=\u001b[39m \u001b[43msock\u001b[49m\u001b[38;5;241;43m.\u001b[39;49m\u001b[43mconnect_ex\u001b[49m\u001b[43m(\u001b[49m\u001b[43m(\u001b[49m\u001b[43mip\u001b[49m\u001b[43m,\u001b[49m\u001b[43m \u001b[49m\u001b[43mpuerto\u001b[49m\u001b[43m)\u001b[49m\u001b[43m)\u001b[49m;\n\u001b[0;32m     16\u001b[0m     \u001b[38;5;66;03m#Ahora comparamos que pasará cuando encuentre un puerto abierto.\u001b[39;00m\n\u001b[0;32m     17\u001b[0m \u001b[38;5;28;01mif\u001b[39;00m result \u001b[38;5;241m==\u001b[39m \u001b[38;5;241m0\u001b[39m:\n",
      "\u001b[1;31mKeyboardInterrupt\u001b[0m: "
     ]
    }
   ],
   "source": [
    "#Importamos libreria socket para manejar tema redes.\n",
    "import socket;\n",
    "from colorama import Fore, Style, Back;\n",
    "\n",
    "#Pedimos ip a escanear al usuario.\n",
    "ip = input(Fore.LIGHTBLUE_EX + Style.BRIGHT + \"Introduzca la ip a escanear: \");\n",
    "\n",
    "#Creamos un ciclo que busque conectarse a cada puerto existente.\n",
    "\n",
    "for puerto in range(1, 65535):\n",
    "    sock = socket.socket(socket.AF_INET, socket.SOCK_STREAM);\n",
    "        #A este sock que especifica que vamos a scanear ipv4 con protocolo tcp le añadimos un timer.\n",
    "    sock.settimeout(3);\n",
    "        #En una variable vamos a guardar el valor del puerto al cual logramos conectarnos.\n",
    "    result = sock.connect_ex((ip, puerto));\n",
    "        #Ahora comparamos que pasará cuando encuentre un puerto abierto.\n",
    "    if result == 0:\n",
    "        print(Fore.GREEN + \"Puerto abierto: \" + str(puerto));\n",
    "        sock.close();\n",
    "    else:\n",
    "        print(Fore.RED + \"Puerto cerrado: \" + str(puerto));\n",
    "        sock.close();"
   ]
  }
 ],
 "metadata": {
  "kernelspec": {
   "display_name": "base",
   "language": "python",
   "name": "python3"
  },
  "language_info": {
   "codemirror_mode": {
    "name": "ipython",
    "version": 3
   },
   "file_extension": ".py",
   "mimetype": "text/x-python",
   "name": "python",
   "nbconvert_exporter": "python",
   "pygments_lexer": "ipython3",
   "version": "3.12.2"
  }
 },
 "nbformat": 4,
 "nbformat_minor": 2
}
