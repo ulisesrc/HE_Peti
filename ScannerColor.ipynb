{
 "cells": [
  {
   "cell_type": "code",
   "execution_count": 16,
   "metadata": {},
   "outputs": [
    {
     "name": "stdout",
     "output_type": "stream",
     "text": [
      "\u001b[31mPuerto cerrado: 1\n",
      "\u001b[31mPuerto cerrado: 2\n",
      "\u001b[31mPuerto cerrado: 3\n",
      "\u001b[31mPuerto cerrado: 4\n",
      "\u001b[31mPuerto cerrado: 5\n",
      "\u001b[31mPuerto cerrado: 6\n",
      "\u001b[31mPuerto cerrado: 7\n",
      "\u001b[31mPuerto cerrado: 8\n",
      "\u001b[31mPuerto cerrado: 9\n",
      "\u001b[31mPuerto cerrado: 10\n",
      "\u001b[31mPuerto cerrado: 11\n",
      "\u001b[31mPuerto cerrado: 12\n",
      "\u001b[31mPuerto cerrado: 13\n",
      "\u001b[31mPuerto cerrado: 14\n",
      "\u001b[31mPuerto cerrado: 15\n",
      "\u001b[31mPuerto cerrado: 16\n",
      "\u001b[31mPuerto cerrado: 17\n",
      "\u001b[31mPuerto cerrado: 18\n",
      "\u001b[31mPuerto cerrado: 19\n",
      "\u001b[31mPuerto cerrado: 20\n",
      "\u001b[32mPuerto abierto: 21\n",
      "\u001b[31mPuerto cerrado: 22\n",
      "\u001b[31mPuerto cerrado: 23\n",
      "\u001b[31mPuerto cerrado: 24\n",
      "\u001b[31mPuerto cerrado: 25\n",
      "\u001b[31mPuerto cerrado: 26\n",
      "\u001b[31mPuerto cerrado: 27\n",
      "\u001b[31mPuerto cerrado: 28\n",
      "\u001b[31mPuerto cerrado: 29\n",
      "\u001b[31mPuerto cerrado: 30\n",
      "\u001b[31mPuerto cerrado: 31\n",
      "\u001b[31mPuerto cerrado: 32\n",
      "\u001b[31mPuerto cerrado: 33\n",
      "\u001b[31mPuerto cerrado: 34\n"
     ]
    }
   ],
   "source": [
    "#Importamos libreria socket para manejar tema redes.\n",
    "import socket;\n",
    "from colorama import Fore, Style, Back;\n",
    "\n",
    "#Pedimos ip a escanear al usuario.\n",
    "ip = input(Fore.LIGHTBLUE_EX + Style.BRIGHT + \"Introduzca la ip a escanear: \");\n",
    "\n",
    "#Creamos un ciclo que busque conectarse a cada puerto existente.\n",
    "\n",
    "for puerto in range(1, 65535):\n",
    "    sock = socket.socket(socket.AF_INET, socket.SOCK_STREAM);\n",
    "        #A este sock que especifica que vamos a scanear ipv4 con protocolo tcp le añadimos un timer.\n",
    "    sock.settimeout(3);\n",
    "        #En una variable vamos a guardar el valor del puerto al cual logramos conectarnos.\n",
    "    result = sock.connect_ex((ip, puerto));\n",
    "        #Ahora comparamos que pasará cuando encuentre un puerto abierto.\n",
    "    if result == 0:\n",
    "        print(Fore.GREEN + \"Puerto abierto: \" + str(puerto));\n",
    "        sock.close();\n",
    "    else:\n",
    "        print(Fore.RED + \"Puerto cerrado: \" + str(puerto));\n",
    "        sock.close();"
   ]
  }
 ],
 "metadata": {
  "kernelspec": {
   "display_name": "base",
   "language": "python",
   "name": "python3"
  },
  "language_info": {
   "codemirror_mode": {
    "name": "ipython",
    "version": 3
   },
   "file_extension": ".py",
   "mimetype": "text/x-python",
   "name": "python",
   "nbconvert_exporter": "python",
   "pygments_lexer": "ipython3",
   "version": "3.11.7"
  }
 },
 "nbformat": 4,
 "nbformat_minor": 2
}
